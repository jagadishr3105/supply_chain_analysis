{
 "cells": [
  {
   "cell_type": "code",
   "execution_count": null,
   "metadata": {},
   "outputs": [
    {
     "name": "stdout",
     "output_type": "stream",
     "text": [
      "       Order ID Order Date Origin Port Carrier  TPT Service Level  \\\n",
      "0  1.447296e+09 2013-05-26      PORT09   V44_3    1           CRF   \n",
      "1  1.447158e+09 2013-05-26      PORT09   V44_3    1           CRF   \n",
      "2  1.447139e+09 2013-05-26      PORT09   V44_3    1           CRF   \n",
      "3  1.447364e+09 2013-05-26      PORT09   V44_3    1           CRF   \n",
      "4  1.447364e+09 2013-05-26      PORT09   V44_3    1           CRF   \n",
      "\n",
      "   Ship ahead day count  Ship Late Day count   Customer  Product ID  \\\n",
      "0                     3                    0  V55555_53     1700106   \n",
      "1                     3                    0  V55555_53     1700106   \n",
      "2                     3                    0  V55555_53     1700106   \n",
      "3                     3                    0  V55555_53     1700106   \n",
      "4                     3                    0  V55555_53     1700106   \n",
      "\n",
      "  Plant Code Destination Port  Unit quantity  Weight  \n",
      "0    PLANT16           PORT09            808   14.30  \n",
      "1    PLANT16           PORT09           3188   87.94  \n",
      "2    PLANT16           PORT09           2331   61.20  \n",
      "3    PLANT16           PORT09            847   16.16  \n",
      "4    PLANT16           PORT09           2163   52.34  \n"
     ]
    }
   ],
   "source": [
    "# Step 1: Load the Excel file \n",
    "\n",
    "#Load the data using pandas libary to load the csv file into data frame for analysis \n",
    "import pandas as pd\n",
    "\n",
    "# Load the Excel file into a DataFrame\n",
    "file_path = \"/Users/jagadish/Desktop/Supply chain datasets/supply chain logisitcs problem.xlsx\"\n",
    "df = pd.read_excel(file_path)\n",
    "\n",
    "# Display the first few rows of the DataFrame\n",
    "print(df.head())\n"
   ]
  },
  {
   "cell_type": "code",
   "execution_count": 7,
   "metadata": {},
   "outputs": [
    {
     "name": "stdout",
     "output_type": "stream",
     "text": [
      "<class 'pandas.core.frame.DataFrame'>\n",
      "RangeIndex: 9215 entries, 0 to 9214\n",
      "Data columns (total 14 columns):\n",
      " #   Column                Non-Null Count  Dtype         \n",
      "---  ------                --------------  -----         \n",
      " 0   Order ID              9215 non-null   float64       \n",
      " 1   Order Date            9215 non-null   datetime64[ns]\n",
      " 2   Origin Port           9215 non-null   object        \n",
      " 3   Carrier               9215 non-null   object        \n",
      " 4   TPT                   9215 non-null   int64         \n",
      " 5   Service Level         9215 non-null   object        \n",
      " 6   Ship ahead day count  9215 non-null   int64         \n",
      " 7   Ship Late Day count   9215 non-null   int64         \n",
      " 8   Customer              9215 non-null   object        \n",
      " 9   Product ID            9215 non-null   int64         \n",
      " 10  Plant Code            9215 non-null   object        \n",
      " 11  Destination Port      9215 non-null   object        \n",
      " 12  Unit quantity         9215 non-null   int64         \n",
      " 13  Weight                9215 non-null   float64       \n",
      "dtypes: datetime64[ns](1), float64(2), int64(5), object(6)\n",
      "memory usage: 1008.0+ KB\n",
      "None\n"
     ]
    }
   ],
   "source": [
    "# STEP 2: EXPLORE THE DATA\n",
    "\n",
    "# Check the structure of the dataset\n",
    "print(df.info())  #Data types and null values "
   ]
  },
  {
   "cell_type": "code",
   "execution_count": 8,
   "metadata": {},
   "outputs": [
    {
     "name": "stdout",
     "output_type": "stream",
     "text": [
      "           Order ID           Order Date          TPT  Ship ahead day count  \\\n",
      "count  9.215000e+03                 9215  9215.000000           9215.000000   \n",
      "mean   1.447274e+09  2013-05-26 00:00:00     1.717743              1.852306   \n",
      "min    1.447126e+09  2013-05-26 00:00:00     0.000000              0.000000   \n",
      "25%    1.447197e+09  2013-05-26 00:00:00     1.000000              0.000000   \n",
      "50%    1.447276e+09  2013-05-26 00:00:00     2.000000              3.000000   \n",
      "75%    1.447346e+09  2013-05-26 00:00:00     2.000000              3.000000   \n",
      "max    1.447425e+09  2013-05-26 00:00:00     4.000000              6.000000   \n",
      "std    8.381629e+04                  NaN     0.630500              1.922302   \n",
      "\n",
      "       Ship Late Day count    Product ID  Unit quantity       Weight  \n",
      "count          9215.000000  9.215000e+03    9215.000000  9215.000000  \n",
      "mean              0.039935  1.680536e+06    3202.747151    19.871688  \n",
      "min               0.000000  1.613321e+06     235.000000     0.000000  \n",
      "25%               0.000000  1.669702e+06     330.000000     1.407430  \n",
      "50%               0.000000  1.683636e+06     477.000000     4.440000  \n",
      "75%               0.000000  1.689554e+06    1275.500000    13.325673  \n",
      "max               6.000000  1.702654e+06  561847.000000  2338.405126  \n",
      "std               0.319625  1.526593e+04   15965.622260    66.569064  \n"
     ]
    }
   ],
   "source": [
    "# Summary Statistics \n",
    "print(df.describe())"
   ]
  },
  {
   "cell_type": "code",
   "execution_count": 10,
   "metadata": {},
   "outputs": [
    {
     "name": "stdout",
     "output_type": "stream",
     "text": [
      "      Order ID  Order Date  Origin Port  Carrier    TPT  Service Level  \\\n",
      "0        False       False        False    False  False          False   \n",
      "1        False       False        False    False  False          False   \n",
      "2        False       False        False    False  False          False   \n",
      "3        False       False        False    False  False          False   \n",
      "4        False       False        False    False  False          False   \n",
      "...        ...         ...          ...      ...    ...            ...   \n",
      "9210     False       False        False    False  False          False   \n",
      "9211     False       False        False    False  False          False   \n",
      "9212     False       False        False    False  False          False   \n",
      "9213     False       False        False    False  False          False   \n",
      "9214     False       False        False    False  False          False   \n",
      "\n",
      "      Ship ahead day count  Ship Late Day count  Customer  Product ID  \\\n",
      "0                    False                False     False       False   \n",
      "1                    False                False     False       False   \n",
      "2                    False                False     False       False   \n",
      "3                    False                False     False       False   \n",
      "4                    False                False     False       False   \n",
      "...                    ...                  ...       ...         ...   \n",
      "9210                 False                False     False       False   \n",
      "9211                 False                False     False       False   \n",
      "9212                 False                False     False       False   \n",
      "9213                 False                False     False       False   \n",
      "9214                 False                False     False       False   \n",
      "\n",
      "      Plant Code  Destination Port  Unit quantity  Weight  \n",
      "0          False             False          False   False  \n",
      "1          False             False          False   False  \n",
      "2          False             False          False   False  \n",
      "3          False             False          False   False  \n",
      "4          False             False          False   False  \n",
      "...          ...               ...            ...     ...  \n",
      "9210       False             False          False   False  \n",
      "9211       False             False          False   False  \n",
      "9212       False             False          False   False  \n",
      "9213       False             False          False   False  \n",
      "9214       False             False          False   False  \n",
      "\n",
      "[9215 rows x 14 columns]\n"
     ]
    }
   ],
   "source": [
    "# Check for missing values \n",
    "print(df.isnull())"
   ]
  },
  {
   "cell_type": "code",
   "execution_count": null,
   "metadata": {},
   "outputs": [],
   "source": [
    "# Step 3 : Clean the Data \n",
    "\n",
    "# Remove Duplicates\n",
    "df = df.drop_duplicates()\n",
    "\n",
    "# Fill or drop Missing Values\n",
    "df = df.fillna(0)  # Meaning Replace NaN values with 0\n",
    "\n",
    "# or\n",
    "df= df.dropna() # Drop rows with NaN values"
   ]
  },
  {
   "cell_type": "code",
   "execution_count": null,
   "metadata": {},
   "outputs": [],
   "source": []
  }
 ],
 "metadata": {
  "kernelspec": {
   "display_name": ".venv",
   "language": "python",
   "name": "python3"
  },
  "language_info": {
   "codemirror_mode": {
    "name": "ipython",
    "version": 3
   },
   "file_extension": ".py",
   "mimetype": "text/x-python",
   "name": "python",
   "nbconvert_exporter": "python",
   "pygments_lexer": "ipython3",
   "version": "3.12.3"
  }
 },
 "nbformat": 4,
 "nbformat_minor": 2
}
